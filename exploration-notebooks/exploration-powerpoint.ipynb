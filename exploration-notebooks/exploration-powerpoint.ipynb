{
 "cells": [
  {
   "cell_type": "code",
   "execution_count": null,
   "id": "35227754",
   "metadata": {},
   "outputs": [],
   "source": [
    "%%html\n",
    "<!-- \n",
    "If you can see this code, this cell's output is not trusted.\n",
    "Please execute this cell and save the notebook, or click File -> Trust Notebook\n",
    "-->\n",
    "<script>\n",
    "var shown = true;\n",
    "\n",
    "function filter_cells_by_tag(tag) {\n",
    "    out = Array();\n",
    "    all_cells = Jupyter.notebook.get_cells()\n",
    "    for (var i=0; i<all_cells.length; i++) {\n",
    "        var curr_cell = all_cells[i];\n",
    "        var tags = curr_cell._metadata.tags;\n",
    "        if (tags != undefined) {\n",
    "            for (var j=0; j<tags.length; j++) {\n",
    "                var curr_tag = tags[j];\n",
    "                if (curr_tag == tag) {\n",
    "                    out.push(curr_cell);\n",
    "                    break;\n",
    "                }\n",
    "            }\n",
    "        }\n",
    "    }\n",
    "    return out;\n",
    "}\n",
    "\n",
    "function set_cell_visibility(tag, show, input_only) {\n",
    "    var cells = Jupyter.notebook.get_cells();\n",
    "    var marked_cells = filter_cells_by_tag(tag);\n",
    "    for (var i=0; i<marked_cells.length; i++) {\n",
    "        var curr_cell = marked_cells[i];\n",
    "        if (input_only) {\n",
    "            obj = curr_cell.input\n",
    "        } else {\n",
    "            obj = curr_cell.element\n",
    "        }\n",
    "        if (show) {\n",
    "            obj.show();\n",
    "        } else {\n",
    "            obj.hide();\n",
    "        }\n",
    "    }\n",
    "}\n",
    "\n",
    "function toggle_cell_visibility(tag) {\n",
    "    set_cell_visibility(tag, shown, false)\n",
    "    shown = ! shown;\n",
    "}\n",
    "\n",
    "set_cell_visibility('execution_cell', false, true);\n",
    "</script>\n",
    "To toggle visibility of explanation cells click <a href=\"javascript:toggle_cell_visibility('explanatory_cell')\">here</a>\n"
   ]
  },
  {
   "cell_type": "markdown",
   "id": "e908195c",
   "metadata": {},
   "source": [
    "# Powerpoint Preprocessing"
   ]
  },
  {
   "cell_type": "markdown",
   "id": "727614ba",
   "metadata": {},
   "source": [
    "This notebook defines the steps for extracting information from an Powerpoint file. To see how to create a generalized API for all documents in the `pipeline-notebooks` directory\n",
    "\n",
    "To demonstrate how off-the-shelf Unstructured Bricks extract meaningful data from complex source documents, we will apply a series of Bricks with explanations.\n",
    "\n",
    "#### Table of Contents\n",
    "\n",
    "1. [Take a Look at a Powerpoint File](#explore)\n",
    "1. [Custom Partitioning Bricks](#custom)\n",
    "1. [Cleaning Bricks](#cleaning)\n",
    "1. [Staging Bricks](#staging)"
   ]
  },
  {
   "cell_type": "markdown",
   "id": "3848e558",
   "metadata": {},
   "source": [
    "## Section 1: Take a Look at a PowerPoint File <a id=\"explore\"></a>"
   ]
  },
  {
   "cell_type": "code",
   "execution_count": 1,
   "id": "71814e12",
   "metadata": {},
   "outputs": [],
   "source": [
    "import os\n",
    "import json\n",
    "\n",
    "\n",
    "def get_filename(directory, filename):\n",
    "    cwd = os.getcwd()\n",
    "    local_directory = os.path.join(os.path.split(cwd)[0], directory)\n",
    "    ci_directory = os.path.join(cwd, directory)\n",
    "\n",
    "    if os.path.exists(local_directory) and filename in os.listdir(local_directory):\n",
    "        return os.path.join(local_directory, filename)\n",
    "    elif os.path.exists(ci_directory) and filename in os.listdir(ci_directory):\n",
    "        return os.path.join(ci_directory, filename)\n",
    "    else:\n",
    "        raise FileNotFoundError"
   ]
  },
  {
   "cell_type": "code",
   "execution_count": 2,
   "id": "72f0ebc4",
   "metadata": {},
   "outputs": [],
   "source": [
    "filename = get_filename(\"sample-docs\", \"fake-power-point-extra.pptx\")"
   ]
  },
  {
   "cell_type": "code",
   "execution_count": 3,
   "id": "ea3b2b58",
   "metadata": {},
   "outputs": [],
   "source": [
    "import pptx\n",
    "\n",
    "presentation = pptx.Presentation(filename)"
   ]
  },
  {
   "cell_type": "code",
   "execution_count": 4,
   "id": "fa146f41",
   "metadata": {},
   "outputs": [],
   "source": [
    "shape = presentation.slides[0].shapes[0]"
   ]
  },
  {
   "cell_type": "code",
   "execution_count": 5,
   "id": "b1fc8500",
   "metadata": {},
   "outputs": [],
   "source": [
    "shapes = [s for s in presentation.slides[0].shapes]"
   ]
  },
  {
   "cell_type": "code",
   "execution_count": 6,
   "id": "1778145d",
   "metadata": {},
   "outputs": [],
   "source": [
    "texts = [t.text_frame.paragraphs[0].text for t in shapes]"
   ]
  },
  {
   "cell_type": "code",
   "execution_count": 7,
   "id": "a548ac8a",
   "metadata": {},
   "outputs": [
    {
     "name": "stdout",
     "output_type": "stream",
     "text": [
      "['Bullet Slide', 'Find the bullet slide layout']\n"
     ]
    }
   ],
   "source": [
    "print(texts)"
   ]
  },
  {
   "cell_type": "code",
   "execution_count": 8,
   "id": "b7895d85",
   "metadata": {},
   "outputs": [
    {
     "data": {
      "text/plain": [
       "'Use _TextFrame.add_paragraph() for subsequent BULLETS'"
      ]
     },
     "execution_count": 8,
     "metadata": {},
     "output_type": "execute_result"
    }
   ],
   "source": [
    "shapes[1].text_frame.paragraphs[2].text"
   ]
  },
  {
   "cell_type": "code",
   "execution_count": 9,
   "id": "fb4bab02",
   "metadata": {},
   "outputs": [
    {
     "data": {
      "text/plain": [
       "'For any comment please send an email to comments@unstructured.io'"
      ]
     },
     "execution_count": 9,
     "metadata": {},
     "output_type": "execute_result"
    }
   ],
   "source": [
    "shapes[1].text_frame.paragraphs[3].text"
   ]
  },
  {
   "cell_type": "code",
   "execution_count": 10,
   "id": "a4eabffc",
   "metadata": {},
   "outputs": [
    {
     "data": {
      "text/plain": [
       "'Also, phone assistance is available at +52 55151685'"
      ]
     },
     "execution_count": 10,
     "metadata": {},
     "output_type": "execute_result"
    }
   ],
   "source": [
    "shapes[1].text_frame.paragraphs[4].text"
   ]
  },
  {
   "cell_type": "code",
   "execution_count": 11,
   "id": "2b04cfd7",
   "metadata": {},
   "outputs": [],
   "source": [
    "shapes = [s for s in presentation.slides[1].shapes]"
   ]
  },
  {
   "cell_type": "code",
   "execution_count": 12,
   "id": "aa7abafc",
   "metadata": {},
   "outputs": [
    {
     "name": "stdout",
     "output_type": "stream",
     "text": [
      "['Another Bullet Slide', 'Find the bullet slide layout']\n"
     ]
    }
   ],
   "source": [
    "texts = [t.text_frame.paragraphs[0].text for t in shapes]\n",
    "print(texts)"
   ]
  },
  {
   "cell_type": "markdown",
   "id": "15d69b6b",
   "metadata": {},
   "source": [
    "## Section 2: Custom Partition Bricks"
   ]
  },
  {
   "cell_type": "code",
   "execution_count": 13,
   "id": "ff34cce7",
   "metadata": {},
   "outputs": [],
   "source": [
    "from unstructured.partition.pptx import partition_pptx\n",
    "\n",
    "elements = partition_pptx(filename)"
   ]
  },
  {
   "cell_type": "code",
   "execution_count": 14,
   "id": "7a46b93f",
   "metadata": {},
   "outputs": [
    {
     "name": "stdout",
     "output_type": "stream",
     "text": [
      "[<unstructured.documents.elements.Title object at 0x12fe56a00>, <unstructured.documents.elements.Title object at 0x11bb90250>, <unstructured.documents.elements.Title object at 0x12fe56c40>, <unstructured.documents.elements.Title object at 0x13b4868b0>, <unstructured.documents.elements.NarrativeText object at 0x13b486910>, <unstructured.documents.elements.NarrativeText object at 0x13b4869d0>, <unstructured.documents.elements.PageBreak object at 0x11bb90ac0>, <unstructured.documents.elements.Title object at 0x12fe56df0>, <unstructured.documents.elements.Title object at 0x12fe56b80>, <unstructured.documents.elements.Title object at 0x13b486ac0>, <unstructured.documents.elements.Title object at 0x13b486be0>]\n"
     ]
    }
   ],
   "source": [
    "print(elements)"
   ]
  },
  {
   "cell_type": "code",
   "execution_count": 15,
   "id": "e0312c8c",
   "metadata": {},
   "outputs": [
    {
     "name": "stdout",
     "output_type": "stream",
     "text": [
      "Bullet Slide\n",
      "Find the bullet slide layout\n",
      "Use _TextFrame.text for first bullet\n",
      "Use _TextFrame.add_paragraph() for subsequent BULLETS\n",
      "For any comment please send an email to comments@unstructured.io\n",
      "Also, phone assistance is available at +52 55151685\n",
      "<PAGE BREAK>\n",
      "Another Bullet Slide\n",
      "Find the bullet slide layout\n",
      "Hello\n",
      "There :)\n"
     ]
    }
   ],
   "source": [
    "for element in elements:\n",
    "    print(element.text)"
   ]
  },
  {
   "cell_type": "markdown",
   "id": "10e1d3df",
   "metadata": {},
   "source": [
    "## Section 3: Cleaning Bricks <a id=\"cleaning\"></a>"
   ]
  },
  {
   "cell_type": "markdown",
   "id": "52943c00",
   "metadata": {},
   "source": [
    "In addition to partitioning bricks, the Unstructured library has\n",
    "***cleaning*** bricks for removing unwanted content from text. In this\n",
    "case, we'll solve our punctuation problem by using the \n",
    "`remove_punctuation`. Other uses for cleaning bricks include\n",
    "cleaning out boilerplate, sentence fragments, and other segments\n",
    "of text that could impact labeling tasks or the accuracy of\n",
    "machine learning models. As with partitioning bricks, users can\n",
    "include custom cleaning bricks in a pipeline."
   ]
  },
  {
   "cell_type": "code",
   "execution_count": 16,
   "id": "268e7dcd",
   "metadata": {},
   "outputs": [
    {
     "data": {
      "text/plain": [
       "'Use _TextFrame.add_paragraph() for subsequent BULLETS'"
      ]
     },
     "execution_count": 16,
     "metadata": {},
     "output_type": "execute_result"
    }
   ],
   "source": [
    "#This element has a lot of new line characters\n",
    "elements[3].text"
   ]
  },
  {
   "cell_type": "code",
   "execution_count": 17,
   "id": "485198a5",
   "metadata": {},
   "outputs": [
    {
     "name": "stdout",
     "output_type": "stream",
     "text": [
      "Use _TextFrame.add_paragraph() for subsequent BULLETS \n",
      "\t\t\t-> Use TextFrameaddparagraph for subsequent BULLETS\n",
      "Use _TextFrame.add_paragraph() for subsequent BULLETS \n",
      "\t\t\t-> use _textframe.add_paragraph() for subsequent bullets\n"
     ]
    }
   ],
   "source": [
    "from unstructured.cleaners.core import remove_punctuation,clean\n",
    "text=elements[3].text\n",
    "print(f\"{text} \\n\\t\\t\\t-> {remove_punctuation(text)}\")\n",
    "\n",
    "print(f\"{text} \\n\\t\\t\\t-> {clean(elements[3].text,lowercase=True)}\")\n"
   ]
  },
  {
   "cell_type": "code",
   "execution_count": 19,
   "id": "d57de18c",
   "metadata": {},
   "outputs": [
    {
     "name": "stdout",
     "output_type": "stream",
     "text": [
      "For any comment please send an email to comments@unstructured.io \n",
      "\t\t\t-> ['comments@unstructured.io']\n",
      "Also, phone assistance is available at +52 55151685 \n",
      "\t\t\t-> 55151685\n"
     ]
    }
   ],
   "source": [
    "from unstructured.cleaners.extract import extract_email_address,extract_us_phone_number\n",
    "\n",
    "text = elements[4].text\n",
    "print(f\"{text} \\n\\t\\t\\t-> {extract_email_address(text)}\")\n",
    "\n",
    "text = elements[5].text\n",
    "print(f\"{text} \\n\\t\\t\\t-> {extract_us_phone_number(elements[5].text)}\")\n"
   ]
  },
  {
   "cell_type": "code",
   "execution_count": 20,
   "id": "08718f7f",
   "metadata": {},
   "outputs": [
    {
     "name": "stdout",
     "output_type": "stream",
     "text": [
      "For any comment please send an email to comments@unstructured.io\n"
     ]
    }
   ],
   "source": [
    "print(elements[4].text)"
   ]
  },
  {
   "cell_type": "markdown",
   "id": "0f7fea99",
   "metadata": {},
   "source": [
    "## Section 4: Staging Bricks<a id=\"staging\"></a>"
   ]
  },
  {
   "cell_type": "code",
   "execution_count": 21,
   "id": "a4cb2037",
   "metadata": {},
   "outputs": [
    {
     "data": {
      "text/plain": [
       "'Use _TextFrame.text for first bullet'"
      ]
     },
     "execution_count": 21,
     "metadata": {},
     "output_type": "execute_result"
    }
   ],
   "source": [
    "elements[2].text"
   ]
  },
  {
   "cell_type": "code",
   "execution_count": 22,
   "id": "4f41f82c",
   "metadata": {},
   "outputs": [
    {
     "data": {
      "text/plain": [
       "[{'data': {'text': 'Bullet Slide',\n",
       "   'ref_id': 'a78cebecf85751415a1cddfc46ce30ee'}},\n",
       " {'data': {'text': 'Find the bullet slide layout',\n",
       "   'ref_id': '3c0332d3515a039dee82e4f3388594c8'}},\n",
       " {'data': {'text': 'Use _TextFrame.text for first bullet',\n",
       "   'ref_id': 'ca8d08c97f0eeb554cac4758c9229614'}},\n",
       " {'data': {'text': 'Use _TextFrame.add_paragraph() for subsequent BULLETS',\n",
       "   'ref_id': '5819d910e92698fc191ba9f5ce1557c7'}},\n",
       " {'data': {'text': 'For any comment please send an email to comments@unstructured.io',\n",
       "   'ref_id': '0aa0b1af34f8eea2e3b613d5292622c9'}},\n",
       " {'data': {'text': 'Also, phone assistance is available at +52 55151685',\n",
       "   'ref_id': '5f845b8555c255f8718877e8ac4924b1'}},\n",
       " {'data': {'text': '<PAGE BREAK>',\n",
       "   'ref_id': '5ea24028ea5addabb8f07dfff681501d'}},\n",
       " {'data': {'text': 'Another Bullet Slide',\n",
       "   'ref_id': '08dde2abae4940a0de4610d133b048a7'}},\n",
       " {'data': {'text': 'Find the bullet slide layout',\n",
       "   'ref_id': '3c0332d3515a039dee82e4f3388594c8'}},\n",
       " {'data': {'text': 'Hello', 'ref_id': '185f8db32271fe25f561a6fc938b2e26'}},\n",
       " {'data': {'text': 'There :)', 'ref_id': '00390202757ea614bbb9b39c56394880'}}]"
      ]
     },
     "execution_count": 22,
     "metadata": {},
     "output_type": "execute_result"
    }
   ],
   "source": [
    "from unstructured.staging.label_studio import stage_for_label_studio\n",
    "\n",
    "label_studio_data = stage_for_label_studio(elements)\n",
    "label_studio_data"
   ]
  },
  {
   "cell_type": "code",
   "execution_count": null,
   "id": "7bd176e1",
   "metadata": {},
   "outputs": [],
   "source": []
  }
 ],
 "metadata": {
  "kernelspec": {
   "display_name": "Python 3 (ipykernel)",
   "language": "python",
   "name": "python3"
  },
  "language_info": {
   "codemirror_mode": {
    "name": "ipython",
    "version": 3
   },
   "file_extension": ".py",
   "mimetype": "text/x-python",
   "name": "python",
   "nbconvert_exporter": "python",
   "pygments_lexer": "ipython3",
   "version": "3.8.13"
  }
 },
 "nbformat": 4,
 "nbformat_minor": 5
}
